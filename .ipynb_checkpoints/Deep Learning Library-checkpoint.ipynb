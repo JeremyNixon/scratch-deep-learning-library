{
 "cells": [
  {
   "cell_type": "code",
   "execution_count": 1,
   "metadata": {
    "ExecuteTime": {
     "end_time": "2017-06-16T10:10:23.280610Z",
     "start_time": "2017-06-16T10:10:19.869575Z"
    },
    "collapsed": false
   },
   "outputs": [
    {
     "name": "stderr",
     "output_type": "stream",
     "text": [
      "/Users/jeremynixon/anaconda/lib/python2.7/site-packages/sklearn/cross_validation.py:44: DeprecationWarning: This module was deprecated in version 0.18 in favor of the model_selection module into which all the refactored classes and functions are moved. Also note that the interface of the new CV iterators are different from that of this module. This module will be removed in 0.20.\n",
      "  \"This module will be removed in 0.20.\", DeprecationWarning)\n"
     ]
    }
   ],
   "source": [
    "import pandas as pd\n",
    "import numpy as np\n",
    "import sklearn.cross_validation\n",
    "from collections import Counter\n",
    "import matplotlib.pyplot as plt\n",
    "%matplotlib inline \n",
    "import math"
   ]
  },
  {
   "cell_type": "code",
   "execution_count": 2,
   "metadata": {
    "collapsed": true
   },
   "outputs": [],
   "source": [
    "from sklearn import preprocessing \n",
    "df = pd.read_csv('https://archive.ics.uci.edu/ml/machine-learning-databases/wine-quality/winequality-red.csv', sep=';')\n",
    "Y = df['quality'].values\n",
    "le = preprocessing.LabelEncoder().fit(Y)\n",
    "Y = le.transform(Y)\n",
    "df = preprocessing.scale(df.drop('quality',1))\n",
    "x_train, x_test, y_train, y_test = sklearn.cross_validation.train_test_split(df, Y, test_size = .80, random_state=42)"
   ]
  },
  {
   "cell_type": "code",
   "execution_count": 3,
   "metadata": {
    "collapsed": false
   },
   "outputs": [],
   "source": [
    "from sklearn import preprocessing\n",
    "data = pd.read_csv('/Users/jeremynixon/Dropbox/python/Oracle Development/iris.data', header=None)\n",
    "# iris = data[:100]\n",
    "iris=data\n",
    "y = np.array(iris[4])\n",
    "new_y = []\n",
    "for i in y:\n",
    "    if i == 'Iris-setosa':\n",
    "        new_y.append(1)\n",
    "    elif i == 'Iris-versicolor':\n",
    "        new_y.append(0)\n",
    "    elif i == 'Iris-virginica':\n",
    "        new_y.append(2)\n",
    "y = np.array(new_y)\n",
    "x = preprocessing.scale(np.array(iris.drop([4], 1)))\n",
    "# x = np.hstack((np.ones((x.shape[0],1)),x))\n",
    "x_train, x_test, y_train, y_test = sklearn.cross_validation.train_test_split(x, y, test_size = .50, random_state=42)"
   ]
  },
  {
   "cell_type": "code",
   "execution_count": 4,
   "metadata": {
    "ExecuteTime": {
     "end_time": "2017-06-16T10:17:51.321026Z",
     "start_time": "2017-06-16T10:17:51.077162Z"
    },
    "collapsed": false
   },
   "outputs": [
    {
     "name": "stderr",
     "output_type": "stream",
     "text": [
      "Using TensorFlow backend.\n",
      "/Users/jeremynixon/anaconda/lib/python2.7/site-packages/ipykernel/__main__.py:3: DeprecationWarning: Non-string object detected for the array ordering. Please pass in 'C', 'F', 'A', or 'K' instead\n",
      "  app.launch_new_instance()\n",
      "/Users/jeremynixon/anaconda/lib/python2.7/site-packages/ipykernel/__main__.py:4: DeprecationWarning: Non-string object detected for the array ordering. Please pass in 'C', 'F', 'A', or 'K' instead\n"
     ]
    }
   ],
   "source": [
    "from keras.datasets import mnist\n",
    "(train_img, y_train), (val_img, y_test) = mnist.load_data()\n",
    "x_train = np.array([train_img[i].flatten((28, 28, 1)) for i in xrange(len(train_img))])/float(255)\n",
    "x_test = np.array([val_img[i].flatten((28, 28, 1)) for i in xrange(len(val_img))])/float(255)"
   ]
  },
  {
   "cell_type": "code",
   "execution_count": null,
   "metadata": {
    "collapsed": false
   },
   "outputs": [],
   "source": []
  },
  {
   "cell_type": "code",
   "execution_count": null,
   "metadata": {
    "collapsed": false
   },
   "outputs": [],
   "source": []
  },
  {
   "cell_type": "code",
   "execution_count": null,
   "metadata": {
    "collapsed": false
   },
   "outputs": [],
   "source": []
  },
  {
   "cell_type": "code",
   "execution_count": null,
   "metadata": {
    "collapsed": false
   },
   "outputs": [],
   "source": []
  },
  {
   "cell_type": "code",
   "execution_count": null,
   "metadata": {
    "collapsed": false
   },
   "outputs": [],
   "source": []
  },
  {
   "cell_type": "code",
   "execution_count": null,
   "metadata": {
    "collapsed": false
   },
   "outputs": [],
   "source": []
  },
  {
   "cell_type": "code",
   "execution_count": null,
   "metadata": {
    "collapsed": false
   },
   "outputs": [],
   "source": []
  },
  {
   "cell_type": "code",
   "execution_count": null,
   "metadata": {
    "collapsed": false
   },
   "outputs": [],
   "source": []
  },
  {
   "cell_type": "code",
   "execution_count": null,
   "metadata": {
    "collapsed": false
   },
   "outputs": [],
   "source": []
  },
  {
   "cell_type": "code",
   "execution_count": null,
   "metadata": {
    "collapsed": false
   },
   "outputs": [],
   "source": []
  },
  {
   "cell_type": "code",
   "execution_count": null,
   "metadata": {
    "collapsed": false
   },
   "outputs": [],
   "source": []
  },
  {
   "cell_type": "code",
   "execution_count": null,
   "metadata": {
    "collapsed": false
   },
   "outputs": [],
   "source": []
  },
  {
   "cell_type": "code",
   "execution_count": null,
   "metadata": {
    "collapsed": false
   },
   "outputs": [],
   "source": []
  },
  {
   "cell_type": "code",
   "execution_count": null,
   "metadata": {
    "collapsed": true
   },
   "outputs": [],
   "source": []
  },
  {
   "cell_type": "code",
   "execution_count": null,
   "metadata": {
    "collapsed": false
   },
   "outputs": [],
   "source": []
  },
  {
   "cell_type": "code",
   "execution_count": null,
   "metadata": {
    "collapsed": false
   },
   "outputs": [],
   "source": []
  },
  {
   "cell_type": "code",
   "execution_count": null,
   "metadata": {
    "collapsed": false
   },
   "outputs": [],
   "source": []
  },
  {
   "cell_type": "code",
   "execution_count": null,
   "metadata": {
    "collapsed": false
   },
   "outputs": [],
   "source": []
  },
  {
   "cell_type": "code",
   "execution_count": null,
   "metadata": {
    "collapsed": false
   },
   "outputs": [],
   "source": []
  },
  {
   "cell_type": "code",
   "execution_count": null,
   "metadata": {
    "collapsed": false
   },
   "outputs": [],
   "source": []
  },
  {
   "cell_type": "code",
   "execution_count": null,
   "metadata": {
    "collapsed": false
   },
   "outputs": [],
   "source": []
  },
  {
   "cell_type": "code",
   "execution_count": null,
   "metadata": {
    "collapsed": false
   },
   "outputs": [],
   "source": []
  },
  {
   "cell_type": "code",
   "execution_count": 5,
   "metadata": {
    "collapsed": false
   },
   "outputs": [],
   "source": []
  },
  {
   "cell_type": "code",
   "execution_count": null,
   "metadata": {
    "collapsed": false
   },
   "outputs": [],
   "source": []
  },
  {
   "cell_type": "code",
   "execution_count": null,
   "metadata": {
    "collapsed": false
   },
   "outputs": [],
   "source": []
  },
  {
   "cell_type": "code",
   "execution_count": 7,
   "metadata": {
    "collapsed": false
   },
   "outputs": [],
   "source": [
    "class Topology:\n",
    "    def __init__(self):\n",
    "        self.layers = []\n",
    "    \n",
    "    def add(self, layer):\n",
    "        self.layers.append(layer)\n",
    "\n",
    "class Dense:\n",
    "    def __init__(self, input_shape, output_shape, n_hidden):\n",
    "        self.n_hidden = n_hidden\n",
    "        self.weights = np.random.randn(input_shape, output_shape) * .1\n",
    "        self.moment1 = np.zeros((input_shape, output_shape))\n",
    "        self.moment2 = np.zeros((input_shape, output_shape))\n",
    "        self.gradients = []\n",
    "        self.deltas = []\n",
    "        self.hidden_layer = None\n",
    "        self.delta = None\n",
    "        self.layer_type = 'Dense'\n",
    "        \n",
    "    def forward(self, forward_data):\n",
    "        self.hidden_layer = np.matmul(forward_data, self.weights)\n",
    "        return self.hidden_layer\n",
    "    \n",
    "    def prev_delta(self, delta):\n",
    "        delta = np.matmul(delta, (self.weights).T)\n",
    "        self.deltas.append(delta)\n",
    "        return delta\n",
    "    \n",
    "    def compute_gradient(self, backward_data, delta):\n",
    "        gradient = np.matmul(backward_data.T, delta)\n",
    "        self.gradients.append(gradient)\n",
    "        return gradient\n",
    "\n",
    "\n",
    "class Convolution2D:\n",
    "    def __init__(self, num_filters, num_channels, filter_shape, img_shape):\n",
    "        self.filter_shape = filter_shape\n",
    "        self.num_channels = num_channels\n",
    "        self.img_shape = img_shape\n",
    "        self.num_filters = num_filters\n",
    "        self.weights = self.init_conv_parameters(num_filters, num_channels, (filter_shape[0], filter_shape[1]), 'weights')\n",
    "        self.moment1 = self.init_conv_parameters(num_filters, num_channels, (filter_shape[0], filter_shape[1]), 'moment')\n",
    "        self.moment2 = self.init_conv_parameters(num_filters, num_channels, (filter_shape[0], filter_shape[1]), 'moment')\n",
    "        self.gradients = []\n",
    "        self.deltas = []\n",
    "        self.delta = None\n",
    "        self.layer_type = 'Convolution2D'\n",
    "        \n",
    "    def init_conv_parameters(self, num_filters, num_channels, filter_shape, kind):\n",
    "        l1 = []\n",
    "        for i in xrange(num_filters):\n",
    "            l2 = []\n",
    "            for j in xrange(num_channels):\n",
    "                if kind == 'weights':\n",
    "                    l2.append(np.random.randn(filter_shape[0], filter_shape[1]) * .1)\n",
    "                if kind == 'moment':\n",
    "                    l2.append(np.zeros((filter_shape[0], filter_shape[1])))\n",
    "            l1.append(l2)\n",
    "        return np.array(l1)\n",
    "        \n",
    "    def img2col(self, matrix, filter_size):\n",
    "        col_extent = matrix.shape[1]-filter_size[1] + 1\n",
    "        row_extent = matrix.shape[0]-filter_size[0] + 1\n",
    "        start_idx = np.arange(filter_size[0])[:, None]*matrix.shape[1] + np.arange(filter_size[1])\n",
    "        offset_idx = np.arange(row_extent)[:,None]*matrix.shape[0] + np.arange(col_extent)\n",
    "        out = np.take(matrix, start_idx.ravel()[:,None] + offset_idx.ravel())\n",
    "        return out.T\n",
    "\n",
    "    def convolution(self, img, fil, padding):\n",
    "        padded = np.pad(img, padding, 'constant', constant_values=0)\n",
    "        convolved = np.matmul(self.img2col(padded, fil.shape), fil.flatten()).reshape(padded.shape[0]-fil.shape[0]+1, padded.shape[1]-fil.shape[1]+1)\n",
    "        if np.max(convolved) > 100:\n",
    "            print np.max(convolved)\n",
    "        if np.min(convolved) < -100:\n",
    "            print np.min(convolved)\n",
    "        return convolved\n",
    "\n",
    "    def forward(self, forward_data):\n",
    "        batch_size = len(forward_data)\n",
    "        forward_data = forward_data.reshape(batch_size, self.num_channels, self.img_shape[0], self.img_shape[1])\n",
    "        outputs = []\n",
    "        for img in forward_data:\n",
    "            channels = []\n",
    "            for channel in xrange(self.num_channels):\n",
    "                img_flat = []\n",
    "                for fil in self.weights[:, channel]:\n",
    "                    output = self.convolution(img[channel].reshape(self.img_shape[0], self.img_shape[1]), fil, padding=self.filter_shape[0]/2)\n",
    "                    img_flat.append(output.flatten())\n",
    "                channels.append(img_flat)\n",
    "            outputs.append(np.array(channels).flatten())\n",
    "        conv_output = np.array(outputs).reshape(len(forward_data), self.num_channels*self.num_filters*self.img_shape[0]*self.img_shape[1], order='C')\n",
    "        return conv_output\n",
    "    \n",
    "    def compute_gradient(self, backward_data, delta):\n",
    "        batch_size = len(backward_data)\n",
    "        delta = delta.reshape(batch_size, self.num_filters, self.num_channels, self.img_shape[0], self.img_shape[1], order='C')\n",
    "\n",
    "        backward_data = backward_data.reshape(batch_size, self.num_channels, self.img_shape[0], self.img_shape[1])\n",
    "        \n",
    "        conv_gradients = []\n",
    "        for img_index in xrange(batch_size):\n",
    "            per_filter = []\n",
    "            for fil_index in xrange(self.num_filters):\n",
    "                per_channel = []\n",
    "                for channel in xrange(self.num_channels):\n",
    "                    output = self.convolution(backward_data[img_index][channel], delta[img_index][fil_index][channel], padding=(self.filter_shape[0]/2))\n",
    "                    per_channel.append(output)\n",
    "                per_filter.append(per_channel)\n",
    "            conv_gradients.append(np.array(per_filter))\n",
    "        conv_gradients = np.array(conv_gradients)\n",
    "        \n",
    "        avg_gradients = []\n",
    "        for filter_index in xrange(conv_gradients.shape[1]):\n",
    "            channel_avg = []\n",
    "            for channel_index in xrange(self.num_channels):\n",
    "                avg = np.zeros(self.filter_shape)\n",
    "                for datapoint_index in xrange(conv_gradients.shape[0]):\n",
    "                    avg = avg + conv_gradients[datapoint_index][filter_index][channel_index]\n",
    "                avg = avg/float(batch_size)\n",
    "                channel_avg.append(avg)\n",
    "            avg_gradients.append(np.array(channel_avg))\n",
    "        avg_gradients = np.array(avg_gradients)\n",
    "        self.gradients.append(avg_gradients)\n",
    "        return avg_gradients\n",
    "\n",
    "    def prev_delta(self, delta):\n",
    "        batch_size = delta.shape[0]\n",
    "        delta = delta.reshape(batch_size, self.num_filters, self.num_channels, self.img_shape[0], self.img_shape[1], order='C')\n",
    "\n",
    "        per_img = []\n",
    "        for img_index in xrange(batch_size):\n",
    "            filter_deltas = []\n",
    "            for channel in xrange(self.num_channels):\n",
    "                avg = np.zeros(self.img_shape)\n",
    "                for fil in xrange(self.num_filters):\n",
    "                    kernel = np.fliplr(np.flipud(self.weights[fil][channel]))\n",
    "                    output = self.convolution(delta[img_index][fil][channel], kernel, padding=(self.filter_shape[0]/2))\n",
    "                    avg += output\n",
    "                filter_deltas.append(avg/self.num_filters)\n",
    "            per_img.append(np.array(filter_deltas).flatten())\n",
    "        per_img = np.array(per_img)\n",
    "        self.deltas.append(per_img)\n",
    "        return per_img\n",
    "    \n",
    "class Activation:\n",
    "    def __init__(self, kind):\n",
    "        self.layer_type = 'Activation'\n",
    "        self.kind = kind\n",
    "        self.hidden_layer = None\n",
    "        self.delta = None\n",
    "        self.output_softmax = None\n",
    "        self.deltas = []\n",
    "        \n",
    "    def forward(self, input_data):\n",
    "        if self.kind == 'relu':\n",
    "            self.hidden_layer = np.maximum(0, input_data)\n",
    "            return self.hidden_layer\n",
    "        \n",
    "        if self.kind == 'linear':\n",
    "            self.hidden_layer = input_data\n",
    "            return self.hidden_layer\n",
    "        \n",
    "        if self.kind == 'softmax':\n",
    "            # Deal with Overflow Problems\n",
    "            input_data = input_data - np.amax(input_data, axis=1, keepdims=True)\n",
    "            # Compute Softmax\n",
    "            self.hidden_layer = np.exp(input_data)\n",
    "            self.output_softmax = self.hidden_layer / np.sum(self.hidden_layer, axis=1, keepdims=True)\n",
    "            return self.output_softmax\n",
    "        \n",
    "    def prev_delta(self, delta):\n",
    "        if self.kind == 'relu':\n",
    "            delta[self.hidden_layer <= 0] = 0\n",
    "            self.deltas.append(delta)\n",
    "            return delta\n",
    "        \n",
    "        if self.kind == 'linear':\n",
    "            self.deltas.append(delta)\n",
    "            return delta\n",
    "        \n",
    "        if self.kind == 'softmax':\n",
    "            self.output_softmax /= len(self.output_softmax)\n",
    "            self.output_softmax[range(batch_size), y_batch] -= 1\n",
    "            self.deltas.append(output_softmax)\n",
    "            self.delta = self.output_softmax\n",
    "            return self.delta\n",
    "        \n",
    "    def compute_gradient(self, fill1, fill2):\n",
    "        return\n",
    "    \n",
    "def evaluate(t, x_test, y_test):\n",
    "#     x_test = np.column_stack((np.ones(len(x_test)), x_test))\n",
    "    x = x_test\n",
    "    # Forward\n",
    "    for layer in t.layers:\n",
    "        x = layer.forward(x)    \n",
    "    output_softmax = x\n",
    "    loss = Counter(y_test-np.argmax(output_softmax, axis=1))[0]/float(len(y_test))\n",
    "    return loss"
   ]
  },
  {
   "cell_type": "code",
   "execution_count": 8,
   "metadata": {
    "collapsed": false
   },
   "outputs": [],
   "source": [
    "def neural_network_4H_sgd(x_train, y_train, x_test, y_test, t, lr=0.1, s=0.9, r=0.999, num_iters=10000, batch_size=32, optimizer='adam'):\n",
    "    # Add bias\n",
    "#     x_train = np.column_stack((np.ones(len(x_train)), x_train))\n",
    "    \n",
    "    # Get Important Shapes\n",
    "    n_row, n_col = np.shape(x_train)\n",
    "    n_classes = len(np.unique(y_train))\n",
    "    \n",
    "    # Init Space for Losses\n",
    "    losses = []\n",
    "    \n",
    "    # Init time step\n",
    "    step = 0\n",
    "    \n",
    "    # Init numerical stability\n",
    "    numerical_stability = .0000001\n",
    "    \n",
    "    # Iterate Through Backpropagation\n",
    "    for iteration in xrange(num_iters):\n",
    "        step += 1\n",
    "        \n",
    "        stochastic_sample = np.random.randint(0, n_row-1, batch_size)\n",
    "            \n",
    "        x_batch = x_train[stochastic_sample]\n",
    "        y_batch = y_train[stochastic_sample]\n",
    "        \n",
    "        x = x_batch\n",
    "        # Forward\n",
    "        for layer in t.layers:\n",
    "            x = layer.forward(x)\n",
    "        \n",
    "        output_softmax = x\n",
    "        \n",
    "        # Backward\n",
    "        output_softmax[range(batch_size), y_batch] -= 1\n",
    "        t.layers[-1].delta = output_softmax/batch_size\n",
    "        \n",
    "        # Compute Errors\n",
    "        for i in xrange(len(t.layers)-2, 0, -1):\n",
    "            t.layers[i].delta = t.layers[i].prev_delta(t.layers[i+1].delta)\n",
    "        \n",
    "        # Compute and Update Gradients\n",
    "        for i in xrange(len(t.layers)-2, -1, -1):\n",
    "            if t.layers[i].layer_type == 'Dense' or t.layers[i].layer_type == 'Convolution2D':\n",
    "                if t.layers[i].layer_type == 'Dense':\n",
    "                    if i == 0:\n",
    "                        gradient = t.layers[i].compute_gradient(x_batch, t.layers[i+1].delta)\n",
    "                    else:\n",
    "                        gradient = t.layers[i].compute_gradient(t.layers[i-1].hidden_layer, t.layers[i+1].delta)\n",
    "\n",
    "                if t.layers[i].layer_type == 'Convolution2D':\n",
    "                    if i == 0:\n",
    "                        gradient = t.layers[i].compute_gradient(x_batch, t.layers[i+1].delta)\n",
    "                    else:\n",
    "                        gradient = t.layers[i].compute_gradient(t.layers[i-1].hidden_layer, t.layers[i+1].delta)\n",
    "\n",
    "\n",
    "                if optimizer == 'adam':\n",
    "                    \n",
    "                    gradient = gradient + numerical_stability\n",
    "\n",
    "                    # Update biased moment estimates\n",
    "                    t.layers[i].moment1 = s * t.layers[i].moment1 + (1-s) * gradient\n",
    "                    t.layers[i].moment2 = r * t.layers[i].moment2 + (1-r) * (gradient * gradient)\n",
    "\n",
    "                    # Correct bias in moment estimates\n",
    "                    m1_unbiased = t.layers[i].moment1/(1-s**step)\n",
    "                    m2_unbiased = t.layers[i].moment2/(1-r**step)\n",
    "\n",
    "                    # Update Layer Weights\n",
    "                    t.layers[i].weights -= lr * m1_unbiased/(np.sqrt(m2_unbiased) + numerical_stability)\n",
    "\n",
    "                if optimizer == 'sgd':\n",
    "\n",
    "                    # Update Layer Weights\n",
    "                    t.layers[i].weights -= lr * gradient\n",
    "\n",
    "                if optimizer == 'momentum':\n",
    "\n",
    "                    # Update Momentum\n",
    "                    t.layers[i].moment1 = s * t.layers[i].moment1 + (1-s) * gradient\n",
    "\n",
    "                    # Update Layer Weights\n",
    "                    t.layers[i].weights -= (lr * gradient) + t.layers[i].moment1      \n",
    "        \n",
    "        if iteration % 10 == 0:\n",
    "            training_loss = evaluate(t, x_train[:1000], y_train[:1000])\n",
    "            validation_loss = evaluate(t, x_test[:1000], y_test[:1000])\n",
    "            print \"Iteration \", iteration, \": Train Loss = \", training_loss, \" Val Loss = \", validation_loss\n",
    "        \n",
    "    return t, losses"
   ]
  },
  {
   "cell_type": "code",
   "execution_count": null,
   "metadata": {
    "collapsed": true
   },
   "outputs": [],
   "source": []
  },
  {
   "cell_type": "code",
   "execution_count": null,
   "metadata": {
    "collapsed": false,
    "scrolled": false
   },
   "outputs": [],
   "source": [
    "t = Topology()\n",
    "t.add(Convolution2D(8, 1, (3,3), (28, 28)))\n",
    "t.add(Activation('relu'))\n",
    "t.add(Convolution2D(4, 8, (3,3), (28, 28)))\n",
    "t.add(Activation('relu'))\n",
    "t.add(Convolution2D(4, 32, (3,3), (28, 28)))\n",
    "t.add(Activation('relu'))\n",
    "t.add(Convolution2D(4, 128, (3,3), (28, 28)))\n",
    "t.add(Activation('relu'))\n",
    "t.add(Dense(401408, len(np.unique(y_train)), 0))\n",
    "t.add(Activation('softmax'))\n",
    "topology, l = neural_network_4H_sgd(x_train, y_train, x_test, y_test, t, lr=.001, num_iters = 10000, optimizer='adam')"
   ]
  },
  {
   "cell_type": "code",
   "execution_count": null,
   "metadata": {
    "collapsed": false
   },
   "outputs": [],
   "source": []
  },
  {
   "cell_type": "code",
   "execution_count": null,
   "metadata": {
    "collapsed": false
   },
   "outputs": [],
   "source": []
  },
  {
   "cell_type": "code",
   "execution_count": null,
   "metadata": {
    "collapsed": false
   },
   "outputs": [],
   "source": []
  },
  {
   "cell_type": "code",
   "execution_count": null,
   "metadata": {
    "collapsed": false
   },
   "outputs": [],
   "source": []
  },
  {
   "cell_type": "code",
   "execution_count": 17,
   "metadata": {
    "collapsed": false
   },
   "outputs": [],
   "source": []
  },
  {
   "cell_type": "code",
   "execution_count": null,
   "metadata": {
    "collapsed": false
   },
   "outputs": [],
   "source": []
  },
  {
   "cell_type": "code",
   "execution_count": null,
   "metadata": {
    "collapsed": false
   },
   "outputs": [],
   "source": []
  },
  {
   "cell_type": "code",
   "execution_count": null,
   "metadata": {
    "collapsed": false
   },
   "outputs": [
    {
     "name": "stdout",
     "output_type": "stream",
     "text": [
      "Iteration  0 : Train Loss =  0.373  Val Loss =  0.398\n",
      "Iteration  10 : Train Loss =  0.727  Val Loss =  0.745\n",
      "Iteration  20 : Train Loss =  0.792  Val Loss =  0.798\n",
      "Iteration  30 : Train Loss =  0.826  Val Loss =  0.842\n",
      "Iteration  40 : Train Loss =  0.841  Val Loss =  0.86\n",
      "Iteration  50 : Train Loss =  0.869  Val Loss =  0.876\n",
      "Iteration  60 : Train Loss =  0.883  Val Loss =  0.879\n",
      "Iteration  70 : Train Loss =  0.865  Val Loss =  0.862\n",
      "Iteration  80 : Train Loss =  0.894  Val Loss =  0.883\n",
      "Iteration  90 : Train Loss =  0.899  Val Loss =  0.895\n",
      "Iteration  100 : Train Loss =  0.906  Val Loss =  0.877\n",
      "Iteration  110 : Train Loss =  0.89  Val Loss =  0.884\n",
      "Iteration  120 : Train Loss =  0.905  Val Loss =  0.887\n",
      "Iteration  130 : Train Loss =  0.903  Val Loss =  0.887\n",
      "Iteration  140 : Train Loss =  0.922  Val Loss =  0.898\n",
      "Iteration  150 : Train Loss =  0.913  Val Loss =  0.903\n",
      "Iteration  160 : Train Loss =  0.889  Val Loss =  0.904\n",
      "Iteration  170 : Train Loss =  0.909  Val Loss =  0.897\n",
      "Iteration  180 : Train Loss =  0.896  Val Loss =  0.896\n",
      "Iteration  190 : Train Loss =  0.918  Val Loss =  0.915\n",
      "Iteration  200 : Train Loss =  0.907  Val Loss =  0.91\n",
      "Iteration  210 : Train Loss =  0.917  Val Loss =  0.925\n",
      "Iteration  220 : Train Loss =  0.918  Val Loss =  0.915\n",
      "Iteration  230 : Train Loss =  0.91  Val Loss =  0.899\n",
      "Iteration  240 : Train Loss =  0.931  Val Loss =  0.922\n",
      "Iteration  250 : Train Loss =  0.916  Val Loss =  0.918\n",
      "Iteration  260 : Train Loss =  0.926  Val Loss =  0.914\n",
      "Iteration  270 : Train Loss =  0.923  Val Loss =  0.91\n",
      "Iteration  280 : Train Loss =  0.921  Val Loss =  0.919\n",
      "Iteration  290 : Train Loss =  0.938  Val Loss =  0.926\n"
     ]
    }
   ],
   "source": []
  },
  {
   "cell_type": "code",
   "execution_count": null,
   "metadata": {
    "collapsed": false
   },
   "outputs": [],
   "source": []
  },
  {
   "cell_type": "code",
   "execution_count": null,
   "metadata": {
    "collapsed": false
   },
   "outputs": [],
   "source": []
  },
  {
   "cell_type": "code",
   "execution_count": null,
   "metadata": {
    "collapsed": false
   },
   "outputs": [],
   "source": []
  },
  {
   "cell_type": "code",
   "execution_count": 1595,
   "metadata": {
    "collapsed": false
   },
   "outputs": [
    {
     "data": {
      "text/plain": [
       "[[0.9816333333333334, 0.9687],\n",
       " [0.9812833333333333, 0.9686],\n",
       " [0.9808833333333333, 0.9691],\n",
       " [0.9804833333333334, 0.969],\n",
       " [0.9799166666666667, 0.9691],\n",
       " [0.9797333333333333, 0.9688],\n",
       " [0.9793666666666667, 0.9684],\n",
       " [0.9794666666666667, 0.9683],\n",
       " [0.9793666666666667, 0.9683],\n",
       " [0.98025, 0.9691],\n",
       " [0.9807833333333333, 0.9696],\n",
       " [0.9811166666666666, 0.9702],\n",
       " [0.9815166666666667, 0.9708],\n",
       " [0.98215, 0.9715],\n",
       " [0.9825833333333334, 0.9722],\n",
       " [0.9833333333333333, 0.9727],\n",
       " [0.9839, 0.9727],\n",
       " [0.9845166666666667, 0.9729],\n",
       " [0.9853166666666666, 0.9733],\n",
       " [0.9858, 0.9731],\n",
       " [0.9863166666666666, 0.9736],\n",
       " [0.9862666666666666, 0.9733],\n",
       " [0.9862666666666666, 0.9731],\n",
       " [0.9859833333333333, 0.9723],\n",
       " [0.98575, 0.9721],\n",
       " [0.98565, 0.9718],\n",
       " [0.9852833333333333, 0.9713],\n",
       " [0.9850833333333333, 0.9713],\n",
       " [0.9853666666666666, 0.9716],\n",
       " [0.9855333333333334, 0.9727],\n",
       " [0.9856666666666667, 0.9724],\n",
       " [0.9858666666666667, 0.9724],\n",
       " [0.9860666666666666, 0.9727],\n",
       " [0.9861, 0.9733],\n",
       " [0.9861333333333333, 0.973],\n",
       " [0.98625, 0.9729],\n",
       " [0.9861833333333333, 0.9725],\n",
       " [0.9860833333333333, 0.9726],\n",
       " [0.9860166666666667, 0.9727],\n",
       " [0.98595, 0.9723]]"
      ]
     },
     "execution_count": 1595,
     "metadata": {},
     "output_type": "execute_result"
    }
   ],
   "source": [
    "l[-40:]"
   ]
  },
  {
   "cell_type": "code",
   "execution_count": 1599,
   "metadata": {
    "collapsed": false,
    "scrolled": true
   },
   "outputs": [],
   "source": [
    "pd.DataFrame(l).to_csv(\"baseline_adam_two_layer_mlp_relu_100_hidden.csv\", index=None)"
   ]
  },
  {
   "cell_type": "code",
   "execution_count": 1597,
   "metadata": {
    "collapsed": false
   },
   "outputs": [
    {
     "data": {
      "image/png": "[encoded data removed]",
      "text/plain": [
       "<matplotlib.figure.Figure at 0x1178a6dd0>"
      ]
     },
     "metadata": {},
     "output_type": "display_data"
    },
    {
     "data": {
      "image/png": "[encoded data removed]",
      "text/plain": [
       "<matplotlib.figure.Figure at 0x117e20f10>"
      ]
     },
     "metadata": {},
     "output_type": "display_data"
    }
   ],
   "source": [
    "plt.scatter(np.arange(len(l)), np.array(l)[:,0])\n",
    "plt.show()\n",
    "plt.scatter(np.arange(len(l)), np.array(l)[:,1])\n",
    "plt.show()"
   ]
  },
  {
   "cell_type": "code",
   "execution_count": 1607,
   "metadata": {
    "collapsed": false
   },
   "outputs": [
    {
     "data": {
      "image/png": "[encoded data removed]",
      "text/plain": [
       "<matplotlib.figure.Figure at 0x11838e710>"
      ]
     },
     "metadata": {},
     "output_type": "display_data"
    },
    {
     "data": {
      "image/png": "[encoded data removed]",
      "text/plain": [
       "<matplotlib.figure.Figure at 0x117b53710>"
      ]
     },
     "metadata": {},
     "output_type": "display_data"
    }
   ],
   "source": [
    "num_vis = 1000\n",
    "plt.scatter(np.arange(num_vis), np.array(l[:num_vis])[:,0])\n",
    "plt.show()\n",
    "plt.scatter(np.arange(num_vis), np.array(l[:num_vis])[:,1])\n",
    "plt.show()"
   ]
  },
  {
   "cell_type": "code",
   "execution_count": 1375,
   "metadata": {
    "collapsed": false
   },
   "outputs": [],
   "source": [
    "def evaluate(t, x_test, y_test):\n",
    "    x_test = np.column_stack((np.ones(len(x_test)), x_test))\n",
    "    x = x_test\n",
    "    # Forward\n",
    "    for layer in t.layers:\n",
    "        x = layer.forward(x)    \n",
    "    output_softmax = x\n",
    "    loss = Counter(y_test-np.argmax(output_softmax, axis=1))[0]/float(len(y_test))\n",
    "    return loss"
   ]
  },
  {
   "cell_type": "code",
   "execution_count": 618,
   "metadata": {
    "collapsed": true
   },
   "outputs": [],
   "source": []
  },
  {
   "cell_type": "code",
   "execution_count": null,
   "metadata": {
    "collapsed": false
   },
   "outputs": [],
   "source": []
  },
  {
   "cell_type": "code",
   "execution_count": null,
   "metadata": {
    "collapsed": false
   },
   "outputs": [],
   "source": []
  },
  {
   "cell_type": "code",
   "execution_count": null,
   "metadata": {
    "collapsed": true
   },
   "outputs": [],
   "source": []
  }
 ],
 "metadata": {
  "kernelspec": {
   "display_name": "Python 2",
   "language": "python",
   "name": "python2"
  },
  "language_info": {
   "codemirror_mode": {
    "name": "ipython",
    "version": 2
   },
   "file_extension": ".py",
   "mimetype": "text/x-python",
   "name": "python",
   "nbconvert_exporter": "python",
   "pygments_lexer": "ipython2",
   "version": "2.7.13"
  }
 },
 "nbformat": 4,
 "nbformat_minor": 1
}
