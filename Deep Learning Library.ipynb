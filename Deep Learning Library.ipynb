{
 "cells": [
  {
   "cell_type": "code",
   "execution_count": 1,
   "metadata": {
    "ExecuteTime": {
     "end_time": "2017-06-16T10:10:23.280610Z",
     "start_time": "2017-06-16T10:10:19.869575Z"
    },
    "collapsed": false
   },
   "outputs": [],
   "source": [
    "import pandas as pd\n",
    "import numpy as np\n",
    "import sklearn.model_selection\n",
    "from collections import Counter\n",
    "import matplotlib.pyplot as plt\n",
    "%matplotlib inline \n",
    "import math"
   ]
  },
  {
   "cell_type": "code",
   "execution_count": 2,
   "metadata": {
    "collapsed": true
   },
   "outputs": [],
   "source": [
    "from sklearn import preprocessing \n",
    "df = pd.read_csv('https://archive.ics.uci.edu/ml/machine-learning-databases/wine-quality/winequality-red.csv', sep=';')\n",
    "Y = df['quality'].values\n",
    "le = preprocessing.LabelEncoder().fit(Y)\n",
    "Y = le.transform(Y)\n",
    "df = preprocessing.scale(df.drop('quality',1))\n",
    "x_train, x_test, y_train, y_test = sklearn.model_selection.train_test_split(df, Y, test_size = .80, random_state=42)"
   ]
  },
  {
   "cell_type": "code",
   "execution_count": 3,
   "metadata": {
    "ExecuteTime": {
     "end_time": "2017-06-16T10:17:51.321026Z",
     "start_time": "2017-06-16T10:17:51.077162Z"
    },
    "collapsed": false
   },
   "outputs": [
    {
     "name": "stderr",
     "output_type": "stream",
     "text": [
      "Using TensorFlow backend.\n"
     ]
    }
   ],
   "source": [
    "from keras.datasets import mnist\n",
    "(train_img, y_train), (val_img, y_test) = mnist.load_data()\n",
    "x_train = np.array([train_img[i].flatten() for i in xrange(len(train_img))])/float(255)\n",
    "x_test = np.array([val_img[i].flatten() for i in xrange(len(val_img))])/float(255)"
   ]
  },
  {
   "cell_type": "code",
   "execution_count": null,
   "metadata": {
    "collapsed": false
   },
   "outputs": [],
   "source": []
  },
  {
   "cell_type": "code",
   "execution_count": 4,
   "metadata": {
    "collapsed": false
   },
   "outputs": [],
   "source": [
    "class Topology:\n",
    "    def __init__(self):\n",
    "        self.layers = []\n",
    "    \n",
    "    def add(self, layer):\n",
    "        self.layers.append(layer)\n",
    "\n",
    "class Dense:\n",
    "    def __init__(self, input_shape, output_shape, n_hidden):\n",
    "        self.n_hidden = n_hidden\n",
    "        self.weights = np.random.randn(input_shape, output_shape) * .1\n",
    "        self.moment1 = np.zeros((input_shape, output_shape))\n",
    "        self.moment2 = np.zeros((input_shape, output_shape))\n",
    "        self.gradients = []\n",
    "        self.deltas = []\n",
    "        self.hidden_layer = None\n",
    "        self.delta = None\n",
    "        self.layer_type = 'Dense'\n",
    "        \n",
    "    def forward(self, forward_data):\n",
    "        self.hidden_layer = np.matmul(forward_data, self.weights)\n",
    "        return self.hidden_layer\n",
    "    \n",
    "    def prev_delta(self, delta):\n",
    "        delta = np.matmul(delta, (self.weights).T)\n",
    "        self.deltas.append(delta)\n",
    "        return delta\n",
    "    \n",
    "    def compute_gradient(self, backward_data, delta):\n",
    "        gradient = np.matmul(backward_data.T, delta)\n",
    "        self.gradients.append(gradient)\n",
    "        return gradient\n",
    "\n",
    "\n",
    "class Convolution2D:\n",
    "    def __init__(self, num_filters, num_channels, filter_shape, img_shape):\n",
    "        self.filter_shape = filter_shape\n",
    "        self.num_channels = num_channels\n",
    "        self.img_shape = img_shape\n",
    "        self.num_filters = num_filters\n",
    "        self.weights = self.init_conv_parameters(num_filters, num_channels, (filter_shape[0], filter_shape[1]), 'weights')\n",
    "        self.moment1 = self.init_conv_parameters(num_filters, num_channels, (filter_shape[0], filter_shape[1]), 'moment')\n",
    "        self.moment2 = self.init_conv_parameters(num_filters, num_channels, (filter_shape[0], filter_shape[1]), 'moment')\n",
    "        self.gradients = []\n",
    "        self.deltas = []\n",
    "        self.delta = None\n",
    "        self.layer_type = 'Convolution2D'\n",
    "        \n",
    "    def init_conv_parameters(self, num_filters, num_channels, filter_shape, kind):\n",
    "        l1 = []\n",
    "        for i in xrange(num_filters):\n",
    "            l2 = []\n",
    "            for j in xrange(num_channels):\n",
    "                if kind == 'weights':\n",
    "                    l2.append(np.random.randn(filter_shape[0], filter_shape[1]) * .1)\n",
    "                if kind == 'moment':\n",
    "                    l2.append(np.zeros((filter_shape[0], filter_shape[1])))\n",
    "            l1.append(l2)\n",
    "        return np.array(l1)\n",
    "        \n",
    "    def img2col(self, matrix, filter_size):\n",
    "        col_extent = matrix.shape[1]-filter_size[1] + 1\n",
    "        row_extent = matrix.shape[0]-filter_size[0] + 1\n",
    "        start_idx = np.arange(filter_size[0])[:, None]*matrix.shape[1] + np.arange(filter_size[1])\n",
    "        offset_idx = np.arange(row_extent)[:,None]*matrix.shape[0] + np.arange(col_extent)\n",
    "        out = np.take(matrix, start_idx.ravel()[:,None] + offset_idx.ravel())\n",
    "        return out.T\n",
    "\n",
    "    def convolution(self, img, fil, padding):\n",
    "        padded = np.pad(img, padding, 'constant', constant_values=0)\n",
    "        convolved = np.matmul(self.img2col(padded, fil.shape), fil.flatten()).reshape(padded.shape[0]-fil.shape[0]+1, padded.shape[1]-fil.shape[1]+1)\n",
    "        if np.max(convolved) > 100:\n",
    "            print np.max(convolved)\n",
    "        if np.min(convolved) < -100:\n",
    "            print np.min(convolved)\n",
    "        return convolved\n",
    "\n",
    "    def forward(self, forward_data):\n",
    "        batch_size = len(forward_data)\n",
    "        forward_data = forward_data.reshape(batch_size, self.num_channels, self.img_shape[0], self.img_shape[1])\n",
    "        outputs = []\n",
    "        for img in forward_data:\n",
    "            channels = []\n",
    "            for channel in xrange(self.num_channels):\n",
    "                img_flat = []\n",
    "                for fil in self.weights[:, channel]:\n",
    "                    output = self.convolution(img[channel].reshape(self.img_shape[0], self.img_shape[1]), fil, padding=self.filter_shape[0]/2)\n",
    "                    img_flat.append(output.flatten())\n",
    "                channels.append(img_flat)\n",
    "            outputs.append(np.array(channels).flatten())\n",
    "        conv_output = np.array(outputs).reshape(len(forward_data), self.num_channels*self.num_filters*self.img_shape[0]*self.img_shape[1], order='C')\n",
    "        return conv_output\n",
    "    \n",
    "    def compute_gradient(self, backward_data, delta):\n",
    "        batch_size = len(backward_data)\n",
    "        delta = delta.reshape(batch_size, self.num_filters, self.num_channels, self.img_shape[0], self.img_shape[1], order='C')\n",
    "\n",
    "        backward_data = backward_data.reshape(batch_size, self.num_channels, self.img_shape[0], self.img_shape[1])\n",
    "        \n",
    "        conv_gradients = []\n",
    "        for img_index in xrange(batch_size):\n",
    "            per_filter = []\n",
    "            for fil_index in xrange(self.num_filters):\n",
    "                per_channel = []\n",
    "                for channel in xrange(self.num_channels):\n",
    "                    output = self.convolution(backward_data[img_index][channel], delta[img_index][fil_index][channel], padding=(self.filter_shape[0]/2))\n",
    "                    per_channel.append(output)\n",
    "                per_filter.append(per_channel)\n",
    "            conv_gradients.append(np.array(per_filter))\n",
    "        conv_gradients = np.array(conv_gradients)\n",
    "        \n",
    "        avg_gradients = []\n",
    "        for filter_index in xrange(conv_gradients.shape[1]):\n",
    "            channel_avg = []\n",
    "            for channel_index in xrange(self.num_channels):\n",
    "                avg = np.zeros(self.filter_shape)\n",
    "                for datapoint_index in xrange(conv_gradients.shape[0]):\n",
    "                    avg = avg + conv_gradients[datapoint_index][filter_index][channel_index]\n",
    "                avg = avg/float(batch_size)\n",
    "                channel_avg.append(avg)\n",
    "            avg_gradients.append(np.array(channel_avg))\n",
    "        avg_gradients = np.array(avg_gradients)\n",
    "        self.gradients.append(avg_gradients)\n",
    "        return avg_gradients\n",
    "\n",
    "    def prev_delta(self, delta):\n",
    "        batch_size = delta.shape[0]\n",
    "        delta = delta.reshape(batch_size, self.num_filters, self.num_channels, self.img_shape[0], self.img_shape[1], order='C')\n",
    "\n",
    "        per_img = []\n",
    "        for img_index in xrange(batch_size):\n",
    "            filter_deltas = []\n",
    "            for channel in xrange(self.num_channels):\n",
    "                avg = np.zeros(self.img_shape)\n",
    "                for fil in xrange(self.num_filters):\n",
    "                    kernel = np.fliplr(np.flipud(self.weights[fil][channel]))\n",
    "                    output = self.convolution(delta[img_index][fil][channel], kernel, padding=(self.filter_shape[0]/2))\n",
    "                    avg += output\n",
    "                filter_deltas.append(avg/self.num_filters)\n",
    "            per_img.append(np.array(filter_deltas).flatten())\n",
    "        per_img = np.array(per_img)\n",
    "        self.deltas.append(per_img)\n",
    "        return per_img\n",
    "    \n",
    "class Activation:\n",
    "    def __init__(self, kind):\n",
    "        self.layer_type = 'Activation'\n",
    "        self.kind = kind\n",
    "        self.hidden_layer = None\n",
    "        self.delta = None\n",
    "        self.output_softmax = None\n",
    "        self.deltas = []\n",
    "        \n",
    "    def forward(self, input_data):\n",
    "        if self.kind == 'relu':\n",
    "            self.hidden_layer = np.maximum(0, input_data)\n",
    "            return self.hidden_layer\n",
    "        \n",
    "        if self.kind == 'linear':\n",
    "            self.hidden_layer = input_data\n",
    "            return self.hidden_layer\n",
    "        \n",
    "        if self.kind == 'softmax':\n",
    "            # Deal with Overflow Problems\n",
    "            input_data = input_data - np.amax(input_data, axis=1, keepdims=True)\n",
    "            # Compute Softmax\n",
    "            self.hidden_layer = np.exp(input_data)\n",
    "            self.output_softmax = self.hidden_layer / np.sum(self.hidden_layer, axis=1, keepdims=True)\n",
    "            return self.output_softmax\n",
    "        \n",
    "    def prev_delta(self, delta):\n",
    "        if self.kind == 'relu':\n",
    "            delta[self.hidden_layer <= 0] = 0\n",
    "            self.deltas.append(delta)\n",
    "            return delta\n",
    "        \n",
    "        if self.kind == 'linear':\n",
    "            self.deltas.append(delta)\n",
    "            return delta\n",
    "        \n",
    "        if self.kind == 'softmax':\n",
    "            self.output_softmax /= len(self.output_softmax)\n",
    "            self.output_softmax[range(batch_size), y_batch] -= 1\n",
    "            self.deltas.append(output_softmax)\n",
    "            self.delta = self.output_softmax\n",
    "            return self.delta\n",
    "        \n",
    "    def compute_gradient(self, fill1, fill2):\n",
    "        return\n",
    "    \n",
    "def evaluate(t, x_test, y_test):\n",
    "    x = x_test\n",
    "    # Forward\n",
    "    for layer in t.layers:\n",
    "        x = layer.forward(x)    \n",
    "    output_softmax = x\n",
    "    loss = Counter(y_test-np.argmax(output_softmax, axis=1))[0]/float(len(y_test))\n",
    "    return loss"
   ]
  },
  {
   "cell_type": "code",
   "execution_count": null,
   "metadata": {
    "collapsed": false
   },
   "outputs": [],
   "source": []
  },
  {
   "cell_type": "code",
   "execution_count": 19,
   "metadata": {
    "collapsed": false
   },
   "outputs": [],
   "source": [
    "def neural_network(x_train, y_train, x_test, y_test, t, lr=0.1, s=0.9, r=0.999, num_iters=10000, batch_size=32, optimizer='adam'):\n",
    "    \n",
    "    # Get Important Shapes\n",
    "    n_row, n_col = np.shape(x_train)\n",
    "    n_classes = len(np.unique(y_train))\n",
    "    \n",
    "    # Init Space for Losses\n",
    "    losses = []\n",
    "    \n",
    "    # Init time step\n",
    "    step = 0\n",
    "    \n",
    "    # Init numerical stability\n",
    "    numerical_stability = .0000001\n",
    "    \n",
    "    # Iterate Through Backpropagation\n",
    "    for iteration in xrange(num_iters):\n",
    "        step += 1\n",
    "        \n",
    "        stochastic_sample = np.random.randint(0, n_row-1, batch_size)\n",
    "            \n",
    "        x_batch = x_train[stochastic_sample]\n",
    "        y_batch = y_train[stochastic_sample]\n",
    "        \n",
    "        x = x_batch\n",
    "        # Forward\n",
    "        for layer in t.layers:\n",
    "            x = layer.forward(x)\n",
    "        \n",
    "        output_softmax = x\n",
    "        \n",
    "        # Backward\n",
    "        output_softmax[range(batch_size), y_batch] -= 1\n",
    "        t.layers[-1].delta = output_softmax/batch_size\n",
    "        \n",
    "        # Compute Errors\n",
    "        for i in xrange(len(t.layers)-2, 0, -1):\n",
    "            t.layers[i].delta = t.layers[i].prev_delta(t.layers[i+1].delta)\n",
    "        \n",
    "        # Compute and Update Gradients\n",
    "        for i in xrange(len(t.layers)-2, -1, -1):\n",
    "            if t.layers[i].layer_type == 'Dense' or t.layers[i].layer_type == 'Convolution2D':\n",
    "                if t.layers[i].layer_type == 'Dense':\n",
    "                    if i == 0:\n",
    "                        gradient = t.layers[i].compute_gradient(x_batch, t.layers[i+1].delta)\n",
    "                    else:\n",
    "                        gradient = t.layers[i].compute_gradient(t.layers[i-1].hidden_layer, t.layers[i+1].delta)\n",
    "\n",
    "                if t.layers[i].layer_type == 'Convolution2D':\n",
    "                    if i == 0:\n",
    "                        gradient = t.layers[i].compute_gradient(x_batch, t.layers[i+1].delta)\n",
    "                    else:\n",
    "                        gradient = t.layers[i].compute_gradient(t.layers[i-1].hidden_layer, t.layers[i+1].delta)\n",
    "\n",
    "\n",
    "                if optimizer == 'adam':\n",
    "                    \n",
    "                    gradient = gradient + numerical_stability\n",
    "\n",
    "                    # Update biased moment estimates\n",
    "                    t.layers[i].moment1 = s * t.layers[i].moment1 + (1-s) * gradient\n",
    "                    t.layers[i].moment2 = r * t.layers[i].moment2 + (1-r) * (gradient * gradient)\n",
    "\n",
    "                    # Correct bias in moment estimates\n",
    "                    m1_unbiased = t.layers[i].moment1/(1-s**step)\n",
    "                    m2_unbiased = t.layers[i].moment2/(1-r**step)\n",
    "\n",
    "                    # Update Layer Weights\n",
    "                    t.layers[i].weights -= lr * m1_unbiased/(np.sqrt(m2_unbiased) + numerical_stability)\n",
    "\n",
    "                if optimizer == 'sgd':\n",
    "\n",
    "                    # Update Layer Weights\n",
    "                    t.layers[i].weights -= lr * gradient\n",
    "\n",
    "                if optimizer == 'momentum':\n",
    "\n",
    "                    # Update Momentum\n",
    "                    t.layers[i].moment1 = s * t.layers[i].moment1 + (1-s) * gradient\n",
    "\n",
    "                    # Update Layer Weights\n",
    "                    t.layers[i].weights -= (lr * gradient) + t.layers[i].moment1      \n",
    "        \n",
    "        if iteration % 10 == 0:\n",
    "            training_loss = evaluate(t, x_train[:1000], y_train[:1000])\n",
    "            validation_loss = evaluate(t, x_test[:1000], y_test[:1000])\n",
    "            losses.append([training_loss, validation_loss])\n",
    "        if iteration % 100 == 0:\n",
    "            print \"Iteration \", iteration, \": Train Loss = \", training_loss, \" Val Loss = \", validation_loss\n",
    "        \n",
    "    return t, losses"
   ]
  },
  {
   "cell_type": "code",
   "execution_count": 20,
   "metadata": {
    "collapsed": false
   },
   "outputs": [
    {
     "name": "stdout",
     "output_type": "stream",
     "text": [
      "Iteration  0 : Train Loss =  0.339  Val Loss =  0.326\n",
      "Iteration  100 : Train Loss =  0.896  Val Loss =  0.904\n",
      "Iteration  200 : Train Loss =  0.902  Val Loss =  0.913\n",
      "Iteration  300 : Train Loss =  0.929  Val Loss =  0.93\n",
      "Iteration  400 : Train Loss =  0.907  Val Loss =  0.911\n",
      "Iteration  500 : Train Loss =  0.937  Val Loss =  0.923\n",
      "Iteration  600 : Train Loss =  0.923  Val Loss =  0.924\n",
      "Iteration  700 : Train Loss =  0.924  Val Loss =  0.93\n",
      "Iteration  800 : Train Loss =  0.938  Val Loss =  0.94\n",
      "Iteration  900 : Train Loss =  0.941  Val Loss =  0.937\n"
     ]
    }
   ],
   "source": [
    "t = Topology()\n",
    "t.add(Dense(x_train.shape[1], 1000, 1000))\n",
    "t.add(Activation('relu'))\n",
    "t.add(Dense(1000, len(np.unique(y_train)), 0))\n",
    "t.add(Activation('softmax'))\n",
    "topology, l = neural_network(x_train, y_train, x_test, y_test, t, lr=.01, num_iters = 1000, optimizer='adam')"
   ]
  },
  {
   "cell_type": "code",
   "execution_count": 23,
   "metadata": {
    "collapsed": false
   },
   "outputs": [
    {
     "name": "stdout",
     "output_type": "stream",
     "text": [
      "Iteration  0 : Train Loss =  0.106  Val Loss =  0.088\n",
      "Iteration  100 : Train Loss =  0.832  Val Loss =  0.839\n",
      "Iteration  200 : Train Loss =  0.88  Val Loss =  0.882\n",
      "Iteration  300 : Train Loss =  0.896  Val Loss =  0.881\n",
      "Iteration  400 : Train Loss =  0.897  Val Loss =  0.901\n",
      "Iteration  500 : Train Loss =  0.918  Val Loss =  0.906\n",
      "Iteration  600 : Train Loss =  0.924  Val Loss =  0.919\n",
      "Iteration  700 : Train Loss =  0.927  Val Loss =  0.913\n",
      "Iteration  800 : Train Loss =  0.926  Val Loss =  0.916\n",
      "Iteration  900 : Train Loss =  0.937  Val Loss =  0.926\n"
     ]
    }
   ],
   "source": [
    "t = Topology()\n",
    "t.add(Convolution2D(8, 1, (3,3), (28, 28)))\n",
    "t.add(Activation('relu'))\n",
    "t.add(Dense(6272, len(np.unique(y_train)), 0))\n",
    "t.add(Activation('softmax'))\n",
    "topology, l = neural_network(x_train, y_train, x_test, y_test, t, lr=.001, num_iters = 1000, optimizer='adam')"
   ]
  },
  {
   "cell_type": "code",
   "execution_count": null,
   "metadata": {
    "collapsed": false
   },
   "outputs": [],
   "source": []
  },
  {
   "cell_type": "code",
   "execution_count": 22,
   "metadata": {
    "collapsed": false
   },
   "outputs": [
    {
     "data": {
      "image/png": "[encoded data removed]",
      "text/plain": [
       "<matplotlib.figure.Figure at 0x107ff5990>"
      ]
     },
     "metadata": {},
     "output_type": "display_data"
    },
    {
     "data": {
      "image/png": "[encoded data removed]",
      "text/plain": [
       "<matplotlib.figure.Figure at 0x107ff5910>"
      ]
     },
     "metadata": {},
     "output_type": "display_data"
    }
   ],
   "source": [
    "plt.scatter(np.arange(len(l)), np.array(l)[:,0])\n",
    "plt.title(\"Dense Network Accuracy\")\n",
    "plt.show()\n",
    "plt.scatter(np.arange(len(l)), np.array(l)[:,1])\n",
    "plt.show()"
   ]
  },
  {
   "cell_type": "code",
   "execution_count": null,
   "metadata": {
    "collapsed": false
   },
   "outputs": [],
   "source": [
    "plt.scatter(np.arange(len(l)), np.array(l)[:,0])\n",
    "plt.title(\"Convolutional Network Accuracy\")\n",
    "plt.show()\n",
    "plt.scatter(np.arange(len(l)), np.array(l)[:,1])\n",
    "plt.show()"
   ]
  },
  {
   "cell_type": "code",
   "execution_count": null,
   "metadata": {
    "collapsed": false
   },
   "outputs": [],
   "source": []
  },
  {
   "cell_type": "code",
   "execution_count": null,
   "metadata": {
    "collapsed": false
   },
   "outputs": [],
   "source": []
  },
  {
   "cell_type": "code",
   "execution_count": null,
   "metadata": {
    "collapsed": false
   },
   "outputs": [],
   "source": []
  },
  {
   "cell_type": "code",
   "execution_count": null,
   "metadata": {
    "collapsed": false
   },
   "outputs": [],
   "source": []
  },
  {
   "cell_type": "code",
   "execution_count": null,
   "metadata": {
    "collapsed": true
   },
   "outputs": [],
   "source": []
  },
  {
   "cell_type": "code",
   "execution_count": null,
   "metadata": {
    "collapsed": false
   },
   "outputs": [],
   "source": []
  },
  {
   "cell_type": "code",
   "execution_count": null,
   "metadata": {
    "collapsed": false
   },
   "outputs": [],
   "source": []
  },
  {
   "cell_type": "code",
   "execution_count": null,
   "metadata": {
    "collapsed": false
   },
   "outputs": [],
   "source": []
  },
  {
   "cell_type": "code",
   "execution_count": null,
   "metadata": {
    "collapsed": false
   },
   "outputs": [],
   "source": []
  },
  {
   "cell_type": "code",
   "execution_count": null,
   "metadata": {
    "collapsed": false
   },
   "outputs": [],
   "source": []
  },
  {
   "cell_type": "code",
   "execution_count": null,
   "metadata": {
    "collapsed": false
   },
   "outputs": [],
   "source": []
  },
  {
   "cell_type": "code",
   "execution_count": null,
   "metadata": {
    "collapsed": false
   },
   "outputs": [],
   "source": []
  },
  {
   "cell_type": "code",
   "execution_count": null,
   "metadata": {
    "collapsed": false
   },
   "outputs": [],
   "source": []
  },
  {
   "cell_type": "code",
   "execution_count": null,
   "metadata": {
    "collapsed": false
   },
   "outputs": [],
   "source": []
  },
  {
   "cell_type": "code",
   "execution_count": null,
   "metadata": {
    "collapsed": false
   },
   "outputs": [],
   "source": []
  },
  {
   "cell_type": "code",
   "execution_count": null,
   "metadata": {
    "collapsed": false
   },
   "outputs": [],
   "source": []
  },
  {
   "cell_type": "code",
   "execution_count": null,
   "metadata": {
    "collapsed": false
   },
   "outputs": [],
   "source": []
  },
  {
   "cell_type": "code",
   "execution_count": null,
   "metadata": {
    "collapsed": false
   },
   "outputs": [],
   "source": []
  },
  {
   "cell_type": "code",
   "execution_count": null,
   "metadata": {
    "collapsed": true
   },
   "outputs": [],
   "source": []
  },
  {
   "cell_type": "code",
   "execution_count": null,
   "metadata": {
    "collapsed": false,
    "scrolled": false
   },
   "outputs": [],
   "source": []
  },
  {
   "cell_type": "code",
   "execution_count": null,
   "metadata": {
    "collapsed": false
   },
   "outputs": [],
   "source": []
  },
  {
   "cell_type": "code",
   "execution_count": null,
   "metadata": {
    "collapsed": false
   },
   "outputs": [],
   "source": []
  },
  {
   "cell_type": "code",
   "execution_count": null,
   "metadata": {
    "collapsed": false
   },
   "outputs": [],
   "source": []
  },
  {
   "cell_type": "code",
   "execution_count": null,
   "metadata": {
    "collapsed": false
   },
   "outputs": [],
   "source": []
  },
  {
   "cell_type": "code",
   "execution_count": null,
   "metadata": {
    "collapsed": false
   },
   "outputs": [],
   "source": []
  },
  {
   "cell_type": "code",
   "execution_count": null,
   "metadata": {
    "collapsed": false
   },
   "outputs": [],
   "source": []
  },
  {
   "cell_type": "code",
   "execution_count": null,
   "metadata": {
    "collapsed": false
   },
   "outputs": [],
   "source": []
  },
  {
   "cell_type": "code",
   "execution_count": null,
   "metadata": {
    "collapsed": false
   },
   "outputs": [],
   "source": []
  },
  {
   "cell_type": "code",
   "execution_count": null,
   "metadata": {
    "collapsed": false
   },
   "outputs": [],
   "source": []
  },
  {
   "cell_type": "code",
   "execution_count": null,
   "metadata": {
    "collapsed": false
   },
   "outputs": [],
   "source": []
  },
  {
   "cell_type": "code",
   "execution_count": null,
   "metadata": {
    "collapsed": false
   },
   "outputs": [],
   "source": []
  },
  {
   "cell_type": "code",
   "execution_count": null,
   "metadata": {
    "collapsed": false
   },
   "outputs": [],
   "source": []
  },
  {
   "cell_type": "code",
   "execution_count": null,
   "metadata": {
    "collapsed": false,
    "scrolled": true
   },
   "outputs": [],
   "source": []
  },
  {
   "cell_type": "code",
   "execution_count": null,
   "metadata": {
    "collapsed": false
   },
   "outputs": [],
   "source": []
  },
  {
   "cell_type": "code",
   "execution_count": null,
   "metadata": {
    "collapsed": false
   },
   "outputs": [],
   "source": [
    "num_vis = 1000\n",
    "plt.scatter(np.arange(num_vis), np.array(l[:num_vis])[:,0])\n",
    "plt.show()\n",
    "plt.scatter(np.arange(num_vis), np.array(l[:num_vis])[:,1])\n",
    "plt.show()"
   ]
  },
  {
   "cell_type": "code",
   "execution_count": null,
   "metadata": {
    "collapsed": false
   },
   "outputs": [],
   "source": [
    "def evaluate(t, x_test, y_test):\n",
    "    x_test = np.column_stack((np.ones(len(x_test)), x_test))\n",
    "    x = x_test\n",
    "    # Forward\n",
    "    for layer in t.layers:\n",
    "        x = layer.forward(x)    \n",
    "    output_softmax = x\n",
    "    loss = Counter(y_test-np.argmax(output_softmax, axis=1))[0]/float(len(y_test))\n",
    "    return loss"
   ]
  },
  {
   "cell_type": "code",
   "execution_count": null,
   "metadata": {
    "collapsed": true
   },
   "outputs": [],
   "source": []
  },
  {
   "cell_type": "code",
   "execution_count": null,
   "metadata": {
    "collapsed": false
   },
   "outputs": [],
   "source": []
  },
  {
   "cell_type": "code",
   "execution_count": null,
   "metadata": {
    "collapsed": false
   },
   "outputs": [],
   "source": []
  },
  {
   "cell_type": "code",
   "execution_count": null,
   "metadata": {
    "collapsed": true
   },
   "outputs": [],
   "source": []
  }
 ],
 "metadata": {
  "kernelspec": {
   "display_name": "Python 2",
   "language": "python",
   "name": "python2"
  },
  "language_info": {
   "codemirror_mode": {
    "name": "ipython",
    "version": 2
   },
   "file_extension": ".py",
   "mimetype": "text/x-python",
   "name": "python",
   "nbconvert_exporter": "python",
   "pygments_lexer": "ipython2",
   "version": "2.7.13"
  }
 },
 "nbformat": 4,
 "nbformat_minor": 1
}
